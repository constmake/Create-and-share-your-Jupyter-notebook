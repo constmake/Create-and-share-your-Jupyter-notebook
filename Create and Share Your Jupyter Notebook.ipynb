{
  "metadata": {
    "kernelspec": {
      "name": "python",
      "display_name": "Pyolite",
      "language": "python"
    },
    "language_info": {
      "codemirror_mode": {
        "name": "python",
        "version": 3
      },
      "file_extension": ".py",
      "mimetype": "text/x-python",
      "name": "python",
      "nbconvert_exporter": "python",
      "pygments_lexer": "ipython3",
      "version": "3.8"
    }
  },
  "nbformat_minor": 4,
  "nbformat": 4,
  "cells": [
    {
      "cell_type": "markdown",
      "source": "# My Jupyter Notebook on IBM Watson Studio",
      "metadata": {
        "tags": []
      }
    },
    {
      "cell_type": "markdown",
      "source": "**Konstantinos Makedas**<br>\nMechanical Engineer",
      "metadata": {
        "tags": []
      }
    },
    {
      "cell_type": "markdown",
      "source": "*I' m interested in data sciense because I love to reveal the truths which are hided in the data.* ",
      "metadata": {}
    },
    {
      "cell_type": "markdown",
      "source": "### The code below stores two values to the variables 'a' and 'b' respectively, calculates the result of the operation 'a' on the power of 'b', store the result to a new variable 'c' and fianlly print the value of 'c'.",
      "metadata": {}
    },
    {
      "cell_type": "code",
      "source": "a=4\nb=2\nc=a**b\nprint (c)",
      "metadata": {
        "trusted": true
      },
      "execution_count": 1,
      "outputs": [
        {
          "name": "stdout",
          "text": "16\n",
          "output_type": "stream"
        }
      ]
    },
    {
      "cell_type": "markdown",
      "source": "* bullet 1\n* bullet 2\n* bullet 3\n\n1. Number 1\n2. Number 2\n3. Number 3\n\n|Title 1 |Title 2|\n|:------:|:-----:|\n|    4   |   5   |\n|    6   |   7   |",
      "metadata": {
        "tags": []
      }
    },
    {
      "cell_type": "code",
      "source": "",
      "metadata": {},
      "execution_count": null,
      "outputs": []
    }
  ]
}